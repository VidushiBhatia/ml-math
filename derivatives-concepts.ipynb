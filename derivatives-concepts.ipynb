{
 "cells": [
  {
   "cell_type": "markdown",
   "id": "06be528d-84f5-4f9a-9964-3be06bdd697b",
   "metadata": {},
   "source": [
    "## Derivatives - Concepts"
   ]
  },
  {
   "cell_type": "code",
   "execution_count": null,
   "id": "abe11f16-07b4-47fd-a9fd-fc75fb1fe9cc",
   "metadata": {},
   "outputs": [],
   "source": [
    "AIM - get an intuition for derivatives and visualizing math\n",
    "1. graphical representation of all key math equations 2D - ex, log, quad (upwards, downwards), cubic, inverse, line, etc.\n",
    "2. graphical representation of all their derivatives 2D\n",
    "3. 1 and 2 but in 3D\n"
   ]
  },
  {
   "cell_type": "markdown",
   "id": "5e582fbd",
   "metadata": {},
   "source": [
    "1. f(x) = e**x - log(x)"
   ]
  },
  {
   "cell_type": "code",
   "execution_count": null,
   "id": "3cac7b94",
   "metadata": {},
   "outputs": [],
   "source": [
    "also try scatter plots with data points"
   ]
  },
  {
   "cell_type": "markdown",
   "id": "7b353ea1",
   "metadata": {},
   "source": []
  }
 ],
 "metadata": {
  "kernelspec": {
   "display_name": "Python 3 (ipykernel)",
   "language": "python",
   "name": "python3"
  },
  "language_info": {
   "codemirror_mode": {
    "name": "ipython",
    "version": 3
   },
   "file_extension": ".py",
   "mimetype": "text/x-python",
   "name": "python",
   "nbconvert_exporter": "python",
   "pygments_lexer": "ipython3",
   "version": "3.13.2"
  }
 },
 "nbformat": 4,
 "nbformat_minor": 5
}
