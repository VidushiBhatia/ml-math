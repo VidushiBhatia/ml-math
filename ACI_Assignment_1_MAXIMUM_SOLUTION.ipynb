{
 "cells": [
  {
   "cell_type": "markdown",
   "metadata": {
    "id": "H9GUkMwzFyub"
   },
   "source": [
    "# Artificial and Computational Intelligence (ACI): Assignment 1"
   ]
  },
  {
   "cell_type": "markdown",
   "metadata": {},
   "source": [
    "#### Assignment Contributor\n"
   ]
  },
  {
   "cell_type": "markdown",
   "metadata": {},
   "source": [
    "\n",
    "This assignment is submitted by: **Group 306**.\n",
    "\n",
    "The team includes:\n",
    "\n",
    "| S.no.          | Name           | BITS ID        | Contribution   |\n",
    "|----------------|----------------|----------------|----------------|\n",
    "| 1              | Vidushi Bhatia | 2024ac05012    | 100%           |\n",
    "\n",
    "<br>\n",
    "\n",
    "<hr>\n",
    "\n",
    "<br>"
   ]
  },
  {
   "cell_type": "markdown",
   "metadata": {},
   "source": [
    "#### Assigned Problem Statement"
   ]
  },
  {
   "cell_type": "markdown",
   "metadata": {},
   "source": [
    "Given the below maze configuration, the task of the robot is to navigate in the maze and find\n",
    "the optimal path to reach the finish position. It can move to the north, south, west and east\n",
    "direction. While navigating through the environment it has obstacles like walls. For each\n",
    "transition, a path cost of +3 is added in search. Assume that the robot’s vision sensors are\n",
    "sensitive to the exposure to the sunlight and whenever it tries to move towards the east direction\n",
    "resulting in incurring an additional penalty of +5 cost. Use Manhattan distance as a heuristic\n",
    "wherever necessary.\n",
    "\n",
    "<img src = \"maze-problem.png\" width = 50%>\n",
    "\n",
    "<br>\n",
    "\n",
    "a. Explain the PEAS (Performance measure, Environment, Actuator, Sensor.) for\n",
    "your agent. (2 Marks)\n",
    "\n",
    "b. Implement A* algorithm using python. Use the below combination and\n",
    "interpret your observations (6 Marks)\n",
    "\n",
    "`f(n) = g(n) + w.h(n)`\n",
    "\n",
    "Scenario 1\n",
    "- Heuristic: Manhattan Distance\n",
    "- Heuristic Weight (w): 1.0\n",
    "- Observation Focus: Optimal path guaranteed, slower due to full exploration.\n",
    "\n",
    "Scenario 2\n",
    "- Heuristic: Manhattan Distance\n",
    "- Heuristic Weight (w): 2.5\n",
    "- Observation Focus: Faster search with fewer nodes expanded, but path may be suboptimal\n",
    "\n",
    "Carefully read the question and submit your individual response using this\n",
    "form: (5 Marks)\n",
    "\n",
    "<br>\n",
    "\n",
    "<hr>\n",
    "\n",
    "<br>"
   ]
  },
  {
   "cell_type": "markdown",
   "metadata": {},
   "source": [
    "## Problem Solution"
   ]
  },
  {
   "cell_type": "markdown",
   "metadata": {
    "id": "Y8SauNckFyud"
   },
   "source": [
    "#### 1.\tDefine the environment in the following block"
   ]
  },
  {
   "cell_type": "markdown",
   "metadata": {
    "id": "xTAkkRECFyud"
   },
   "source": [
    "<u>**PEAS Description**</u>\n",
    "\n",
    "**P - Performance Metrics**\n",
    "- Total path cost - Use the most efficient (optimal) path according to the defined costs. - minimize\n",
    "- Number of collisions with walls - minimize\n",
    "- Number of step to reach the finish point - minimize\n",
    "- Number of steps taken in the east direction - minimize\n",
    "- time taken to find the finish position - minimize\n",
    "\n",
    "\n",
    "**E - Environment**\n",
    "- a maze with gird layout\n",
    "- Clearly defined start and finish positions start and finish positions - \n",
    "- walls/obstacles Fixed walls that act as obstacles and block movement.\n",
    "- Sunlight exposure\n",
    "- open path to traverse \n",
    "- Static, observable layout\n",
    "\n",
    "**A - Actuators**\n",
    "- movement control/steering ability in 4 directions\n",
    "- ability to traverse - robot legs/wheels\n",
    "- Mechanisms to stop or change direction to avoid walls.\n",
    "\n",
    "**S - Sensors**\n",
    "- sensors to detect walls (Proximity/vision)\n",
    "- sensors to dectect sunlight (thermal/UV)\n",
    "- ability to detect finish state\n",
    "\n",
    "<br>\n",
    "<hr>\n",
    "<br>\n",
    "\n",
    "<u>**Given Problem Formulation**</u>\n",
    "\n",
    "**Initial State**\n",
    "The agent starts at the given Start position.\n",
    "\n",
    "**Actions**\n",
    "- move: north, south, west and east direction\n",
    "- can't move through obstacles like walls\n",
    "\n",
    "**State Space**\n",
    " State Representation -- A state is represented as the current cell coordinates: (x, y).\n",
    "\n",
    "**Transition Model**\n",
    "Given a state (x, y) and an action, the agent transitions to a new state (x', y') if the move is legal.\n",
    "\t•\tEach state represents the robot’s current position (row, column) in the grid.\n",
    "    •\tThe robot can be in any free cell that is not blocked by a wall within the maze boundaries.\n",
    "\n",
    "**Goal Test**\n",
    "Find the optimal path to reach the finish position from the given initial state with minimum path cost and minimum manhnttan distance heuristic.\n",
    "The goal test checks if the current state equals the goal coordinates.\n",
    "\n",
    "\n",
    "**Path Cost**\n",
    "- for each transition, +3\n",
    "- for each move towards east, additional +5\n",
    "\n",
    "<br>\n",
    "<hr>\n",
    "<br>\n",
    "\n"
   ]
  },
  {
   "cell_type": "code",
   "execution_count": null,
   "metadata": {
    "id": "2MAHnXD1Fyud"
   },
   "outputs": [],
   "source": [
    "# Code Block : Set Initial State (Must handle dynamic inputs)\n",
    "\n",
    "def get_initial_and_goal_positions(maze):\n",
    "    start = None\n",
    "    goal = None\n",
    "\n",
    "    for i in range(len(maze)):\n",
    "        for j in range(len(maze[0])):\n",
    "            if maze[i][j] == -99:\n",
    "                start = (i, j)\n",
    "            elif maze[i][j] == 99:\n",
    "                goal = (i, j)\n",
    "    \n",
    "    if not start or not goal:\n",
    "        raise ValueError(\"Start or Goal not defined in maze.\")\n",
    "    \n",
    "    return start, goal\n",
    "\n",
    "def set_initial_state(maze):\n",
    "    \"\"\"Find the 'Start' position in the maze; assumes 'S' denotes Start.\"\"\"\n",
    "    for row in range(len(maze)):\n",
    "        for col in range(len(maze[0])):\n",
    "            if maze[row][col] == 'S':\n",
    "                return (row, col)\n",
    "    raise ValueError(\"Start position not found.\")\n",
    "\n",
    "\n"
   ]
  },
  {
   "cell_type": "code",
   "execution_count": null,
   "metadata": {
    "id": "3DzivjiGFyue"
   },
   "outputs": [],
   "source": [
    "# Code Block : Set the matrix for transition & cost (as relevant for the given problem)\n",
    "\n",
    "maze_transition = [\n",
    "    [-99, 1,   0,   0,   0,   0],\n",
    "    [0,   1,   0,   1,   1,   0],\n",
    "    [0,   0,   0,   1,   0,   0],\n",
    "    [1,   1,   0,   1,   0,   1],\n",
    "    [0,   0,   0,   0,   0,  99]\n",
    "]\n",
    "\n",
    "# Move costs\n",
    "MOVE_COST = 3\n",
    "SUNLIGHT_PENALTY = 5\n",
    "\n",
    "def manhattan(current, goal):\n",
    "    return abs(current[0] - goal[0]) + abs(current[1] - goal[1])\n",
    "\n",
    "\n",
    "# Example dynamic maze matrix\n",
    "maze = [\n",
    "    ['S', '0', '1', '0', '0', '0', '0'],\n",
    "    ['1', '0', '1', '0', '1', '1', '0'],\n",
    "    ['1', '0', '0', '0', '1', '0', '1'],\n",
    "    ['0', '0', '1', '0', '1', '0', 'F']\n",
    "]\n",
    "\n",
    "# Movement costs: direction : (delta_row, delta_col, cost)\n",
    "actions = {\n",
    "    'N': (-1, 0, 3),\n",
    "    'S': (1, 0, 3),\n",
    "    'E': (0, 1, 8),    # 3 (move) + 5 (east penalty)\n",
    "    'W': (0, -1, 3)\n",
    "}\n",
    "\n",
    "\n",
    "def manhattan_distance(state, maze):\n",
    "    \"\"\"Find goal location dynamically and compute Manhattan distance.\"\"\"\n",
    "    rows, cols = len(maze), len(maze[0])\n",
    "    for row in range(rows):\n",
    "        for col in range(cols):\n",
    "            if maze[row][col] == 'F':\n",
    "                goal = (row, col)\n",
    "                return abs(state[0] - goal[0]) + abs(state[1] - goal[1])\n",
    "    raise ValueError(\"Goal position not found.\")"
   ]
  },
  {
   "cell_type": "code",
   "execution_count": null,
   "metadata": {
    "id": "X0dhW7_LFyue"
   },
   "outputs": [],
   "source": [
    "# Code Block : Write function to design the Transition Model/Successor function. \n",
    "# Ideally this would be called while search algorithms are implemented\n",
    "\n",
    "def get_successors(position, maze):\n",
    "    successors = []\n",
    "    x, y = position\n",
    "    rows, cols = len(maze), len(maze[0])\n",
    "\n",
    "    directions = {\n",
    "        \"N\": (-1, 0),\n",
    "        \"S\": (1, 0),\n",
    "        \"W\": (0, -1),\n",
    "        \"E\": (0, 1)\n",
    "    }\n",
    "\n",
    "    for action, (dx, dy) in directions.items():\n",
    "        nx, ny = x + dx, y + dy\n",
    "        if 0 <= nx < rows and 0 <= ny < cols and maze[nx][ny] != 1:\n",
    "            cost = MOVE_COST\n",
    "            if action == \"E\":\n",
    "                cost += SUNLIGHT_PENALTY\n",
    "            successors.append(((nx, ny), cost))\n",
    "    \n",
    "    return successors\n",
    "\n",
    "def get_successors(state, maze, actions):\n",
    "    \"\"\"Return list of (successor_state, action, cost) from current state.\"\"\"\n",
    "    successors = []\n",
    "    rows, cols = len(maze), len(maze[0])\n",
    "    r, c = state\n",
    "    for action in actions:\n",
    "        dr, dc, move_cost = actions[action]\n",
    "        nr, nc = r + dr, c + dc\n",
    "        if 0 <= nr < rows and 0 <= nc < cols and maze[nr][nc] != '1':\n",
    "            successors.append(((nr, nc), action, move_cost))\n",
    "    return successors\n"
   ]
  },
  {
   "cell_type": "code",
   "execution_count": null,
   "metadata": {
    "id": "zImA1VT4Fyue"
   },
   "outputs": [],
   "source": [
    "# Code block : Write fucntion to handle goal test (Must handle dynamic inputs). \n",
    "# Ideally this would be called while search algorithms are implemented\n",
    "\n",
    "def is_goal(state, goal_state):\n",
    "    return state == goal_state\n",
    "\n",
    "\n",
    "def is_goal_state(state, maze):\n",
    "    \"\"\"Check if the current state is the goal.\"\"\"\n",
    "    r, c = state\n",
    "    return maze[r][c] == 'F'"
   ]
  },
  {
   "cell_type": "markdown",
   "metadata": {
    "id": "Dv_aI84TFyue"
   },
   "source": [
    "### 2. A* algorithm"
   ]
  },
  {
   "cell_type": "markdown",
   "metadata": {},
   "source": [
    "`f(n) = g(n) + w.h(n)`\n",
    "\n",
    "Scenario 1\n",
    "- Heuristic: Manhattan Distance\n",
    "- Heuristic Weight (w): 1.0\n",
    "- Observation Focus: Optimal path guaranteed, slower due to full exploration.\n",
    "Scenario 2\n",
    "- Heuristic: Manhattan Distance\n",
    "- Heuristic Weight (w): 2.5\n",
    "- Observation Focus: Faster search with fewer nodes expanded, but path may be suboptimal\n",
    "\n"
   ]
  },
  {
   "cell_type": "code",
   "execution_count": 2,
   "metadata": {
    "id": "SQWEw6mUFyue"
   },
   "outputs": [],
   "source": [
    "# Code Block : Function for algorithm 1 implementation\n",
    "\n",
    "import heapq\n",
    "\n",
    "import heapq\n",
    "\n",
    "def a_star_search(maze, w=1.0):\n",
    "    start, goal = get_initial_and_goal_positions(maze)\n",
    "\n",
    "    def heuristic(pos):\n",
    "        return abs(pos[0] - goal[0]) + abs(pos[1] - goal[1])\n",
    "\n",
    "    open_list = []\n",
    "    heapq.heappush(open_list, (0, 0, start))  # (f(n), g(n), position)\n",
    "    \n",
    "    came_from = {}\n",
    "    cost_so_far = {start: 0}\n",
    "    nodes_expanded = 0\n",
    "\n",
    "    while open_list:\n",
    "        print(\"\\n====== STEP\", nodes_expanded + 1, \"======\")\n",
    "        print(\"Open List Before Expansion:\")\n",
    "        for entry in open_list:\n",
    "            print(f\"  State: {entry[2]}, f(n): {entry[0]:.1f}, g(n): {entry[1]}\")\n",
    "\n",
    "        _, g, current = heapq.heappop(open_list)\n",
    "        print(f\"\\n🔍 Expanding Node: {current} with g(n)={g}\")\n",
    "\n",
    "        nodes_expanded += 1\n",
    "\n",
    "        if is_goal(current, goal):\n",
    "            print(\"✅ Goal Reached!\")\n",
    "            path = reconstruct_path(came_from, current)\n",
    "            total_cost = cost_so_far[current]\n",
    "            return {\n",
    "                \"path\": path,\n",
    "                \"cost\": total_cost,\n",
    "                \"nodes_expanded\": nodes_expanded\n",
    "            }\n",
    "\n",
    "        successors = get_successors(current, maze)\n",
    "        print(\"\\nNext Possible States:\")\n",
    "        for neighbor, cost in successors:\n",
    "            print(f\"  ➤ {neighbor} with step cost: {cost}\")\n",
    "\n",
    "        for neighbor, step_cost in successors:\n",
    "            new_cost = cost_so_far[current] + step_cost\n",
    "            if neighbor not in cost_so_far or new_cost < cost_so_far[neighbor]:\n",
    "                cost_so_far[neighbor] = new_cost\n",
    "                f_score = new_cost + w * heuristic(neighbor)\n",
    "                heapq.heappush(open_list, (f_score, new_cost, neighbor))\n",
    "                came_from[neighbor] = current\n",
    "                print(f\"  ⬆️ Added to Open List: {neighbor}, f(n)={f_score:.1f}, g(n)={new_cost}\")\n",
    "\n",
    "    print(\"❌ No path found.\")\n",
    "    return None\n",
    "\n",
    "\n",
    "\n",
    "def reconstruct_path(came_from, current):\n",
    "    path = [current]\n",
    "    while current in came_from:\n",
    "        current = came_from[current]\n",
    "        path.append(current)\n",
    "    path.reverse()\n",
    "    return path\n"
   ]
  },
  {
   "cell_type": "code",
   "execution_count": null,
   "metadata": {},
   "outputs": [],
   "source": [
    "import heapq\n",
    "\n",
    "def a_star_search(maze, weight=1.0, start_sym='S', finish_sym='F', wall_sym='1'):\n",
    "    \"\"\"\n",
    "    Performs A* search with weighted heuristic on the given maze.\n",
    "    Args:\n",
    "        maze: List of rows; elements as 'S' (start), 'F' (finish), '1'(wall), '0'(free cell)\n",
    "        weight: Float, weight for heuristic h(n) in f(n) = g(n) + w*h(n)\n",
    "        start_sym: Char, symbol for start\n",
    "        finish_sym: Char, symbol for finish\n",
    "        wall_sym: Char, symbol for wall\n",
    "    Returns:\n",
    "        path: List of (row, col) tuples from start to goal, or None if no path found\n",
    "        total_cost: The cost corresponding to the path\n",
    "    \"\"\"    \n",
    "\n",
    "    # Helper functions\n",
    "\n",
    "    def get_position(sym):\n",
    "        for r in range(len(maze)):\n",
    "            for c in range(len(maze[0])):\n",
    "                if maze[r][c] == sym:\n",
    "                    return (r, c)\n",
    "        raise ValueError(f\"Symbol {sym} not found in maze.\")\n",
    "\n",
    "    def get_neighbors(state):\n",
    "        r, c = state\n",
    "        directions = {\n",
    "            'N': (-1, 0, 3),   # Up\n",
    "            'S': (1, 0, 3),    # Down\n",
    "            'E': (0, 1, 8),    # Right (East: 3+5 penalty)\n",
    "            'W': (0, -1, 3)    # Left\n",
    "        }\n",
    "        for dir in directions:\n",
    "            dr, dc, cost = directions[dir]\n",
    "            nr, nc = r + dr, c + dc\n",
    "            if 0 <= nr < len(maze) and 0 <= nc < len(maze[0]):\n",
    "                if maze[nr][nc] != wall_sym:\n",
    "                    yield (nr, nc), cost\n",
    "\n",
    "    def manhattan(a, b):\n",
    "        return abs(a[0] - b[0]) + abs(a[1] - b[1])\n",
    "\n",
    "    # Initialize\n",
    "    start = get_position(start_sym)\n",
    "    goal = get_position(finish_sym)\n",
    "    heap = []\n",
    "    heapq.heappush(heap, (weight*manhattan(start, goal), 0, start, [start]))\n",
    "    visited = set()\n",
    "\n",
    "    while heap:\n",
    "        f, g, current, path = heapq.heappop(heap)\n",
    "        if current == goal:\n",
    "            return path, g   # Success\n",
    "        \n",
    "        if current in visited:\n",
    "            continue\n",
    "        visited.add(current)\n",
    "        \n",
    "        for neighbor, step_cost in get_neighbors(current):\n",
    "            if neighbor not in visited:\n",
    "                new_g = g + step_cost\n",
    "                h = manhattan(neighbor, goal)\n",
    "                new_f = new_g + weight * h\n",
    "                heapq.heappush(heap, (new_f, new_g, neighbor, path + [neighbor]))\n",
    "    return None, None\n",
    "\n",
    "# --- Example usage ---\n",
    "if __name__ == \"__main__\":\n",
    "    # Dynamic input example\n",
    "    maze = [\n",
    "        ['S', '0', '1', '0', '0', '0'],\n",
    "        ['1', '0', '1', '0', '1', '0'],\n",
    "        ['1', '0', '0', '0', '1', '0'],\n",
    "        ['0', '0', '1', '0', '1', 'F']\n",
    "    ]\n",
    "    weight = 1.0  # Standard A* (weight=1); >1 makes it greedier, <1 makes it more conservative\n",
    "\n",
    "    path, total_cost = a_star_search(maze, weight)\n",
    "    if path is not None:\n",
    "        print(f\"Path found: {path}\")\n",
    "        print(f\"Total cost: {total_cost}\")\n",
    "    else:\n",
    "        print(\"No path found.\")\n"
   ]
  },
  {
   "cell_type": "markdown",
   "metadata": {
    "id": "Yby5rPLMFyuf"
   },
   "source": [
    "### 3. DYNAMIC INPUT"
   ]
  },
  {
   "cell_type": "markdown",
   "metadata": {
    "id": "DCCXQ0owFyuf"
   },
   "source": [
    "IMPORTANT : Dynamic Input must be got in this section. Display the possible states to choose from: This is applicable for all the relevent problems as mentioned in the question."
   ]
  },
  {
   "cell_type": "code",
   "execution_count": null,
   "metadata": {
    "id": "beAnddJKFyuf"
   },
   "outputs": [],
   "source": [
    "#Code Block : Function & call to get inputs (start/end state)\n",
    "\n",
    "start, goal = get_initial_and_goal_positions(maze)\n",
    "print(\"Start:\", start)\n",
    "print(\"Goal:\", goal)\n",
    "\n",
    "successors = get_successors(start, maze)\n",
    "print(\"Successors of start:\", successors)\n",
    "\n",
    "result = a_star_search(maze, w=1.0)\n",
    "\n",
    "\n",
    "start = set_initial_state(maze)"
   ]
  },
  {
   "cell_type": "markdown",
   "metadata": {
    "id": "bqVEUFRoFyuf"
   },
   "source": [
    "### 4.\tCalling the search algorithms"
   ]
  },
  {
   "cell_type": "code",
   "execution_count": null,
   "metadata": {
    "id": "y9CAb9j8Fyuf"
   },
   "outputs": [],
   "source": [
    "#Invoke algorithm 1 (Should Print the solution, path, cost, Interpretation etc., (As mentioned in the problem))\n",
    "\n",
    "#scenario 1\n",
    "result_1 = a_star_search_no_heap(maze, w=1.0)\n",
    "\n",
    "print(\"\\n--- Scenario 1: A* with w=1.0 ---\")\n",
    "print(\"\\n=== FINAL RESULT ===\")\n",
    "if result_1:\n",
    "    print(\"Path:\", result_1['path'])\n",
    "    print(\"Total Cost:\", result_1['cost'])\n",
    "    print(\"Nodes Expanded:\", result_1['nodes_expanded'])\n",
    "else:\n",
    "    print(\"No path found.\")\n"
   ]
  },
  {
   "cell_type": "code",
   "execution_count": null,
   "metadata": {},
   "outputs": [],
   "source": [
    "result_2 = a_star_search_no_heap(maze, w=2.5)\n",
    "\n",
    "print(\"\\n--- Scenario 2: A* with w=2.5 ---\")\n",
    "if result_2:\n",
    "    print(\"Path:\", result_2['path'])\n",
    "    print(\"Total Cost:\", result_2['cost'])\n",
    "    print(\"Nodes Expanded:\", result_2['nodes_expanded'])\n",
    "    print(\"Interpretation: Faster but may be suboptimal due to aggressive heuristic.\")\n",
    "    print(\"Time Complexity: O(b^d) — reduced in practice due to fewer nodes explored\")\n",
    "    print(\"Space Complexity: O(b^d) — reduced open list size compared to w=1.0\")\n",
    "else:\n",
    "    print(\"No path found.\")"
   ]
  },
  {
   "cell_type": "code",
   "execution_count": null,
   "metadata": {},
   "outputs": [],
   "source": []
  },
  {
   "cell_type": "code",
   "execution_count": null,
   "metadata": {},
   "outputs": [],
   "source": []
  },
  {
   "cell_type": "markdown",
   "metadata": {
    "id": "pPN1mgOSFyug",
    "jp-MarkdownHeadingCollapsed": true
   },
   "source": [
    "### 5.\tComparitive Analysis"
   ]
  },
  {
   "cell_type": "code",
   "execution_count": null,
   "metadata": {
    "id": "EwBYRVQHFyug"
   },
   "outputs": [],
   "source": [
    "#Code Block : Print the Time & Space complexity of algorithm"
   ]
  }
 ],
 "metadata": {
  "colab": {
   "provenance": []
  },
  "kernelspec": {
   "display_name": "Python 3 (ipykernel)",
   "language": "python",
   "name": "python3"
  },
  "language_info": {
   "codemirror_mode": {
    "name": "ipython",
    "version": 3
   },
   "file_extension": ".py",
   "mimetype": "text/x-python",
   "name": "python",
   "nbconvert_exporter": "python",
   "pygments_lexer": "ipython3",
   "version": "3.13.3"
  }
 },
 "nbformat": 4,
 "nbformat_minor": 4
}
