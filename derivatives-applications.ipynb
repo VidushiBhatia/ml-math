{
 "cells": [
  {
   "cell_type": "markdown",
   "id": "f0d9e39f-e0b0-4559-a729-daaeeee4a829",
   "metadata": {},
   "source": [
    "## Derivatives - Applications in ML"
   ]
  },
  {
   "cell_type": "code",
   "execution_count": null,
   "id": "5ed770c2-d91d-4d02-bfd5-331ac095d1e9",
   "metadata": {},
   "outputs": [],
   "source": [
    "AIM - recreate all popular cost functions using math eq and optimize them using derivatives\n",
    "\n",
    "do it using gradients i.e. vectorized partial derivatives\n",
    "\n",
    "least sqaures\n",
    "gradient descent    -- see how it converges with one global minima vs multiple"
   ]
  }
 ],
 "metadata": {
  "kernelspec": {
   "display_name": "Python 3 (ipykernel)",
   "language": "python",
   "name": "python3"
  },
  "language_info": {
   "codemirror_mode": {
    "name": "ipython",
    "version": 3
   },
   "file_extension": ".py",
   "mimetype": "text/x-python",
   "name": "python",
   "nbconvert_exporter": "python",
   "pygments_lexer": "ipython3",
   "version": "3.13.2"
  }
 },
 "nbformat": 4,
 "nbformat_minor": 5
}
